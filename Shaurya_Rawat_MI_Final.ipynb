{
 "cells": [
  {
   "cell_type": "markdown",
   "metadata": {},
   "source": [
    "## IE Marketing Intelligence Final Report\n",
    "#### Author:  Shaurya Rawat \n",
    "#### Professor:  Sonia Casado\n",
    " We have two files: Training and Validation. <br>\n",
    " Algorithms Used: <br>\n",
    " 1.Logistic Regression <br>\n",
    " 2.Random Forest <br>"
   ]
  },
  {
   "cell_type": "markdown",
   "metadata": {},
   "source": [
    "## Import the Libraries"
   ]
  },
  {
   "cell_type": "code",
   "execution_count": 5,
   "metadata": {
    "collapsed": true
   },
   "outputs": [],
   "source": [
    "# -*- coding: utf-8 -*-\n",
    "\"\"\"\n",
    "Created on Tue May 16 19:56:34 2017\n",
    "\n",
    "@author: Shaurya Rawat\n",
    "\"\"\"\n",
    "\n",
    "import pandas as pd\n",
    "import numpy as np\n",
    "import matplotlib.pyplot as plt\n",
    "\n",
    "%matplotlib inline"
   ]
  },
  {
   "cell_type": "markdown",
   "metadata": {},
   "source": [
    "## Read the Data and Plot the Targets(0 and 1)"
   ]
  },
  {
   "cell_type": "code",
   "execution_count": 6,
   "metadata": {
    "collapsed": false
   },
   "outputs": [
    {
     "data": {
      "image/png": "[encoded data removed]",
      "text/plain": [
       "<matplotlib.figure.Figure at 0x22bd884f6a0>"
      ]
     },
     "metadata": {},
     "output_type": "display_data"
    }
   ],
   "source": [
    "data=pd.read_csv(\"D:\\IE MBD 2016\\Marketing Intelligence\\IE_MI_IndividualProject_data(1)\\IE_MI_training.csv\",delimiter=';')\n",
    "\n",
    "data.columns\n",
    "data.shape\n",
    "#1898460,94\n",
    "\n",
    "target_classes=pd.value_counts(data['target'],sort=True).sort_index()\n",
    "target_classes.plot(kind='bar')\n",
    "plt.xlabel('Targets')\n",
    "plt.ylabel('No. of occurences')\n",
    "plt.show()\n",
    "#unbalanced data\n",
    "# very less no. of 1's as compared to 0's in the target field"
   ]
  },
  {
   "cell_type": "markdown",
   "metadata": {},
   "source": [
    "## Check for Null values "
   ]
  },
  {
   "cell_type": "code",
   "execution_count": 7,
   "metadata": {
    "collapsed": false
   },
   "outputs": [],
   "source": [
    "data.isnull().any()\n",
    "data=data.drop(['uuid'],axis=1)\n",
    "freq_prov=data['prov'].mode()[0]\n",
    "freq_prov\n",
    "data['prov'].fillna(freq_prov,inplace=True)\n",
    "# We find prov has null values\n",
    "# So we replace it with the mode of the province which is 28,0- Madrid"
   ]
  },
  {
   "cell_type": "markdown",
   "metadata": {},
   "source": [
    "## Split the Data into: Train and Test"
   ]
  },
  {
   "cell_type": "code",
   "execution_count": 8,
   "metadata": {
    "collapsed": false
   },
   "outputs": [
    {
     "name": "stderr",
     "output_type": "stream",
     "text": [
      "D:\\Anaconda\\lib\\site-packages\\sklearn\\cross_validation.py:44: DeprecationWarning: This module was deprecated in version 0.18 in favor of the model_selection module into which all the refactored classes and functions are moved. Also note that the interface of the new CV iterators are different from that of this module. This module will be removed in 0.20.\n",
      "  \"This module will be removed in 0.20.\", DeprecationWarning)\n"
     ]
    }
   ],
   "source": [
    "from sklearn.cross_validation import train_test_split\n",
    "train,test=train_test_split(data,test_size=0.20)"
   ]
  },
  {
   "cell_type": "markdown",
   "metadata": {},
   "source": [
    "## Undersampling"
   ]
  },
  {
   "cell_type": "code",
   "execution_count": 9,
   "metadata": {
    "collapsed": true
   },
   "outputs": [],
   "source": [
    "def undersample(data,ratio=1):\n",
    "    target=data[data['target']==1]\n",
    "    not_target=data[data['target']==0].sample(n=ratio*len(target))\n",
    "    return pd.concat([target,not_target]).sample(frac=1) \n",
    "\n",
    "undertrain=undersample(train)\n",
    "\n",
    "y=undertrain['target']\n",
    "X=undertrain.drop(['target'],axis=1)"
   ]
  },
  {
   "cell_type": "markdown",
   "metadata": {},
   "source": [
    "## Apply Logistic Regression and Random Forest"
   ]
  },
  {
   "cell_type": "code",
   "execution_count": 10,
   "metadata": {
    "collapsed": true
   },
   "outputs": [],
   "source": [
    "from sklearn.model_selection import KFold,cross_val_score\n",
    "from sklearn.metrics import auc,roc_curve\n",
    "\n",
    "#Logistic Regression\n",
    "from sklearn.linear_model import LogisticRegression\n",
    "clf=LogisticRegression()\n",
    "clf.fit(X,y)\n",
    "score_logistic=np.mean(cross_val_score(clf,X,y,cv=4,scoring='roc_auc'))\n",
    "#0.66035\n",
    "\n",
    "# Random Forest\n",
    "from sklearn.ensemble import RandomForestClassifier\n",
    "rf=RandomForestClassifier()\n",
    "rf.fit(X,y)\n",
    "score_rf=np.mean(cross_val_score(rf,X,y,cv=4,scoring='roc_auc'))\n",
    "#0.6842"
   ]
  },
  {
   "cell_type": "markdown",
   "metadata": {},
   "source": [
    "## Get Predictions on the test set"
   ]
  },
  {
   "cell_type": "code",
   "execution_count": 11,
   "metadata": {
    "collapsed": true
   },
   "outputs": [],
   "source": [
    "#Evaluating\n",
    "test2=test.drop(['target'],axis=1)\n",
    "ypred=clf.predict_proba(test2)\n",
    "ypred2=rf.predict_proba(test2)"
   ]
  },
  {
   "cell_type": "markdown",
   "metadata": {},
   "source": [
    "## Plot the Logistic Regression AUC"
   ]
  },
  {
   "cell_type": "code",
   "execution_count": 12,
   "metadata": {
    "collapsed": false
   },
   "outputs": [
    {
     "data": {
      "text/plain": [
       "<matplotlib.legend.Legend at 0x22bd88472e8>"
      ]
     },
     "execution_count": 12,
     "metadata": {},
     "output_type": "execute_result"
    },
    {
     "data": {
      "image/png": "[encoded data removed]",
      "text/plain": [
       "<matplotlib.figure.Figure at 0x22bd8847048>"
      ]
     },
     "metadata": {},
     "output_type": "display_data"
    }
   ],
   "source": [
    "#lr\n",
    "fpr,tpr,thresholds=roc_curve(test['target'],ypred[:,1])\n",
    "roc_auc=auc(fpr,tpr)\n",
    "plt.plot(fpr,tpr,'b',label='Logistic Regression AUC= %0.2f'%(roc_auc))\n",
    "plt.legend(loc='best')\n",
    "#0.65"
   ]
  },
  {
   "cell_type": "markdown",
   "metadata": {},
   "source": [
    "## Plot the Random Forest AUC"
   ]
  },
  {
   "cell_type": "code",
   "execution_count": 15,
   "metadata": {
    "collapsed": false
   },
   "outputs": [
    {
     "data": {
      "text/plain": [
       "<matplotlib.legend.Legend at 0x22baedacdd8>"
      ]
     },
     "execution_count": 15,
     "metadata": {},
     "output_type": "execute_result"
    },
    {
     "data": {
      "image/png": "[encoded data removed]",
      "text/plain": [
       "<matplotlib.figure.Figure at 0x22bff8d0940>"
      ]
     },
     "metadata": {},
     "output_type": "display_data"
    }
   ],
   "source": [
    "#rf\n",
    "fpr,tpr,thresholds=roc_curve(test['target'],ypred2[:,1])\n",
    "roc_auc=auc(fpr,tpr)\n",
    "plt.plot(fpr,tpr,'r',label='Random Forest AUC= %0.2f'%(roc_auc))\n",
    "plt.legend(loc='best')\n",
    "#0.69"
   ]
  },
  {
   "cell_type": "markdown",
   "metadata": {},
   "source": [
    "## Predict Values for Validation.txt and Store in CSV"
   ]
  },
  {
   "cell_type": "code",
   "execution_count": null,
   "metadata": {
    "collapsed": true
   },
   "outputs": [],
   "source": [
    "#Random Forest works best for us 0.69\n",
    "pred_data=pd.read_csv(\"D:\\IE MBD 2016\\Marketing Intelligence\\IE_MI_IndividualProject_data(1)\\IE_MI_validation.csv\",delimiter=';')\n",
    "pred_data=pred_data.drop(['uuid'],axis=1)\n",
    "pred_data['prov'].fillna(freq_prov,inplace=True)\n",
    "final_pred=rf.predict(pred_data)\n",
    "submission=pd.DataFrame({\"UUID\":test['uuid'],\"Score\":Y_pred})\n",
    "submission.to_csv('shauryarawat_07052017.csv',index=False)"
   ]
  }
 ],
 "metadata": {
  "anaconda-cloud": {},
  "kernelspec": {
   "display_name": "Python [conda root]",
   "language": "python",
   "name": "conda-root-py"
  },
  "language_info": {
   "codemirror_mode": {
    "name": "ipython",
    "version": 3
   },
   "file_extension": ".py",
   "mimetype": "text/x-python",
   "name": "python",
   "nbconvert_exporter": "python",
   "pygments_lexer": "ipython3",
   "version": "3.5.2"
  }
 },
 "nbformat": 4,
 "nbformat_minor": 2
}
